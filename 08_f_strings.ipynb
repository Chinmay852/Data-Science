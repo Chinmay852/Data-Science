{
 "cells": [
  {
   "cell_type": "code",
   "execution_count": 1,
   "id": "16b6383d-d325-4f99-ae88-f35c4560d4a8",
   "metadata": {},
   "outputs": [],
   "source": [
    "s= \"Chinmay\""
   ]
  },
  {
   "cell_type": "code",
   "execution_count": 2,
   "id": "19c67eee-ab87-439c-92b9-e5a4252ce424",
   "metadata": {},
   "outputs": [
    {
     "data": {
      "text/plain": [
       "'C'"
      ]
     },
     "execution_count": 2,
     "metadata": {},
     "output_type": "execute_result"
    }
   ],
   "source": [
    "s[0]"
   ]
  },
  {
   "cell_type": "code",
   "execution_count": 6,
   "id": "4c58197b-8ead-4fea-bec2-b364146701d7",
   "metadata": {},
   "outputs": [
    {
     "name": "stdout",
     "output_type": "stream",
     "text": [
      "My name is John and I am 38 years old\n"
     ]
    }
   ],
   "source": [
    "name = \"John\"\n",
    "age = 38\n",
    "print(\"My name is {} and I am {} years old\".format(name , age))"
   ]
  },
  {
   "cell_type": "code",
   "execution_count": 7,
   "id": "cfd13747-f9e1-4222-a2f2-883438c8aeec",
   "metadata": {},
   "outputs": [
    {
     "name": "stdout",
     "output_type": "stream",
     "text": [
      "My name is John and I am 38 years old\n"
     ]
    }
   ],
   "source": [
    "print(f\"My name is {name} and I am {age} years old\")"
   ]
  }
 ],
 "metadata": {
  "kernelspec": {
   "display_name": "Python [conda env:base] *",
   "language": "python",
   "name": "conda-base-py"
  },
  "language_info": {
   "codemirror_mode": {
    "name": "ipython",
    "version": 3
   },
   "file_extension": ".py",
   "mimetype": "text/x-python",
   "name": "python",
   "nbconvert_exporter": "python",
   "pygments_lexer": "ipython3",
   "version": "3.13.5"
  }
 },
 "nbformat": 4,
 "nbformat_minor": 5
}
