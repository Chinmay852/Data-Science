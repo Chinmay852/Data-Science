{
 "cells": [
  {
   "cell_type": "code",
   "execution_count": 5,
   "id": "fa986ac1-76a1-421a-aef4-1d01f0568ad5",
   "metadata": {},
   "outputs": [],
   "source": [
    "a=43"
   ]
  },
  {
   "cell_type": "code",
   "execution_count": 6,
   "id": "17dac202-5508-4384-b2fa-3039faf43b26",
   "metadata": {},
   "outputs": [
    {
     "name": "stdout",
     "output_type": "stream",
     "text": [
      "Greater\n"
     ]
    }
   ],
   "source": [
    "if(a>5):\n",
    "    print(\"Greater\")\n",
    "else:\n",
    "    print(\"Smaller\")"
   ]
  },
  {
   "cell_type": "code",
   "execution_count": 19,
   "id": "8d523902-c8bf-4d3d-b85c-c5ca4018576d",
   "metadata": {},
   "outputs": [
    {
     "name": "stdout",
     "output_type": "stream",
     "text": [
      "Greater than 50\n"
     ]
    }
   ],
   "source": [
    "a=51\n",
    "\n",
    "if (a>50):\n",
    "    print(\"Greater than 50\")\n",
    "elif (a>40):\n",
    "    print(\"Greater than 40\")\n",
    "elif (a>30):\n",
    "    print(\"Greater than 30\")\n",
    "else:\n",
    "    print(\"Done\")"
   ]
  },
  {
   "cell_type": "code",
   "execution_count": 20,
   "id": "91789451-fb6c-49b8-8bc5-1d5073fc43b0",
   "metadata": {},
   "outputs": [],
   "source": [
    "def avg(a, b):\n",
    "    return (a+b)/2"
   ]
  },
  {
   "cell_type": "code",
   "execution_count": 21,
   "id": "d42354a1-1a61-4759-b887-402a7564edab",
   "metadata": {},
   "outputs": [
    {
     "data": {
      "text/plain": [
       "5.0"
      ]
     },
     "execution_count": 21,
     "metadata": {},
     "output_type": "execute_result"
    }
   ],
   "source": [
    "avg (4,6)"
   ]
  },
  {
   "cell_type": "code",
   "execution_count": 22,
   "id": "f7bf4a07-b1d7-433d-bd93-c346aae34f3a",
   "metadata": {},
   "outputs": [],
   "source": [
    "def greet():\n",
    "    print(\"Good Morning\")"
   ]
  },
  {
   "cell_type": "code",
   "execution_count": 23,
   "id": "127c8e7e-caa6-47fe-95d1-f3a8ee17de96",
   "metadata": {},
   "outputs": [
    {
     "name": "stdout",
     "output_type": "stream",
     "text": [
      "Good Morning\n"
     ]
    }
   ],
   "source": [
    "greet()"
   ]
  },
  {
   "cell_type": "code",
   "execution_count": null,
   "id": "a0cecae5-1fda-4abc-a20c-5e49b536b8b8",
   "metadata": {},
   "outputs": [],
   "source": []
  }
 ],
 "metadata": {
  "kernelspec": {
   "display_name": "Python [conda env:base] *",
   "language": "python",
   "name": "conda-base-py"
  },
  "language_info": {
   "codemirror_mode": {
    "name": "ipython",
    "version": 3
   },
   "file_extension": ".py",
   "mimetype": "text/x-python",
   "name": "python",
   "nbconvert_exporter": "python",
   "pygments_lexer": "ipython3",
   "version": "3.13.5"
  }
 },
 "nbformat": 4,
 "nbformat_minor": 5
}
