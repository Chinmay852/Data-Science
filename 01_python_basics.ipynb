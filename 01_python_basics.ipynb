{
 "cells": [
  {
   "cell_type": "code",
   "execution_count": 1,
   "id": "67a239a9-0738-499b-9ac9-b575a7d9d812",
   "metadata": {},
   "outputs": [],
   "source": [
    "a = 5"
   ]
  },
  {
   "cell_type": "code",
   "execution_count": 2,
   "id": "3f4df0a6-2ae8-442f-8c0f-858163cafe0a",
   "metadata": {},
   "outputs": [],
   "source": [
    "b= 32"
   ]
  },
  {
   "cell_type": "code",
   "execution_count": 3,
   "id": "ead0403d-14c3-4bd3-98e6-fa318f62cecd",
   "metadata": {},
   "outputs": [
    {
     "data": {
      "text/plain": [
       "37"
      ]
     },
     "execution_count": 3,
     "metadata": {},
     "output_type": "execute_result"
    }
   ],
   "source": [
    "a+b"
   ]
  },
  {
   "cell_type": "code",
   "execution_count": 4,
   "id": "8738b4f5-e9c2-46ff-89c8-89eea8fd183a",
   "metadata": {},
   "outputs": [],
   "source": [
    "name = \"harry\""
   ]
  },
  {
   "cell_type": "raw",
   "id": "d930ab02-45e8-4f89-8a26-33fb953e31c7",
   "metadata": {},
   "source": [
    "print(\"Hello World\")"
   ]
  },
  {
   "cell_type": "code",
   "execution_count": 5,
   "id": "07c4203e-03cd-45d1-965b-093bb40938d6",
   "metadata": {},
   "outputs": [
    {
     "name": "stdout",
     "output_type": "stream",
     "text": [
      "Hello World\n"
     ]
    }
   ],
   "source": [
    "print(\"Hello World\")"
   ]
  },
  {
   "cell_type": "raw",
   "id": "16433b17-a4ed-4926-963a-8f46d66c7363",
   "metadata": {},
   "source": []
  },
  {
   "cell_type": "code",
   "execution_count": 6,
   "id": "44d4e115-7de4-4da8-bf4e-a8fff668b8f3",
   "metadata": {},
   "outputs": [
    {
     "name": "stdout",
     "output_type": "stream",
     "text": [
      "<class 'int'>\n"
     ]
    }
   ],
   "source": [
    "print(type(a))"
   ]
  },
  {
   "cell_type": "raw",
   "id": "6f83166e-b4ee-4ae6-8b43-2921f7a3ed6b",
   "metadata": {},
   "source": []
  },
  {
   "cell_type": "code",
   "execution_count": 7,
   "id": "c7cb7863-3778-4eda-a96f-322fed36b87a",
   "metadata": {},
   "outputs": [
    {
     "name": "stdout",
     "output_type": "stream",
     "text": [
      "<class 'str'>\n"
     ]
    }
   ],
   "source": [
    "print(type(name))"
   ]
  },
  {
   "cell_type": "code",
   "execution_count": 8,
   "id": "91ec3864-c795-4910-8456-c89a70fb39fa",
   "metadata": {},
   "outputs": [],
   "source": [
    "a= \"4566\""
   ]
  },
  {
   "cell_type": "code",
   "execution_count": 10,
   "id": "e346d965-92b3-4f4d-893e-3724d6478872",
   "metadata": {},
   "outputs": [],
   "source": [
    "b=\"5677\""
   ]
  },
  {
   "cell_type": "code",
   "execution_count": 11,
   "id": "503ca136-dd9d-4010-8325-483740cbfb60",
   "metadata": {},
   "outputs": [
    {
     "name": "stdout",
     "output_type": "stream",
     "text": [
      "45665677\n"
     ]
    }
   ],
   "source": [
    "print(a+b)"
   ]
  },
  {
   "cell_type": "code",
   "execution_count": 13,
   "id": "db0abdca-b4b7-4cdf-9c2c-8bdbf1cf50b0",
   "metadata": {},
   "outputs": [
    {
     "name": "stdout",
     "output_type": "stream",
     "text": [
      "10243\n"
     ]
    }
   ],
   "source": [
    "print(int(a)+int(b))"
   ]
  }
 ],
 "metadata": {
  "kernelspec": {
   "display_name": "Python [conda env:base] *",
   "language": "python",
   "name": "conda-base-py"
  },
  "language_info": {
   "codemirror_mode": {
    "name": "ipython",
    "version": 3
   },
   "file_extension": ".py",
   "mimetype": "text/x-python",
   "name": "python",
   "nbconvert_exporter": "python",
   "pygments_lexer": "ipython3",
   "version": "3.13.5"
  }
 },
 "nbformat": 4,
 "nbformat_minor": 5
}
