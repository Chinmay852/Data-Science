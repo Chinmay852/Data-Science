{
 "cells": [
  {
   "cell_type": "code",
   "execution_count": 2,
   "id": "a4e9a988-e943-40c2-8df5-8411cdafa253",
   "metadata": {},
   "outputs": [],
   "source": [
    "name = \"Chinmay\""
   ]
  },
  {
   "cell_type": "code",
   "execution_count": null,
   "id": "d45e136d-5c82-4744-adad-e451c4b4680e",
   "metadata": {},
   "outputs": [],
   "source": []
  },
  {
   "cell_type": "code",
   "execution_count": null,
   "id": "bde3bab7-7e7b-4598-a8bf-ec645a23b4d3",
   "metadata": {},
   "outputs": [],
   "source": []
  },
  {
   "cell_type": "code",
   "execution_count": 4,
   "id": "1d4a4293-4771-4a63-a4d4-690de0c488dd",
   "metadata": {},
   "outputs": [
    {
     "data": {
      "text/plain": [
       "'CHINMAY'"
      ]
     },
     "execution_count": 4,
     "metadata": {},
     "output_type": "execute_result"
    }
   ],
   "source": [
    "name.upper()"
   ]
  },
  {
   "cell_type": "code",
   "execution_count": 5,
   "id": "544c3220-17e1-49e4-8eaa-3a038d43ab0c",
   "metadata": {},
   "outputs": [
    {
     "data": {
      "text/plain": [
       "'chinmay'"
      ]
     },
     "execution_count": 5,
     "metadata": {},
     "output_type": "execute_result"
    }
   ],
   "source": [
    "name.lower()"
   ]
  },
  {
   "cell_type": "code",
   "execution_count": 6,
   "id": "61fbc3d4-49b0-4d2a-a1b5-65d88f27fb05",
   "metadata": {},
   "outputs": [
    {
     "data": {
      "text/plain": [
       "True"
      ]
     },
     "execution_count": 6,
     "metadata": {},
     "output_type": "execute_result"
    }
   ],
   "source": [
    "name.endswith(\"ay\")"
   ]
  },
  {
   "cell_type": "code",
   "execution_count": 7,
   "id": "00f12bec-8906-4937-9f16-9781133ef3fe",
   "metadata": {},
   "outputs": [
    {
     "data": {
      "text/plain": [
       "1"
      ]
     },
     "execution_count": 7,
     "metadata": {},
     "output_type": "execute_result"
    }
   ],
   "source": [
    "name.count(\"a\")"
   ]
  },
  {
   "cell_type": "code",
   "execution_count": 9,
   "id": "4930f24e-9ba6-4208-bc9a-d8812abdde15",
   "metadata": {},
   "outputs": [],
   "source": [
    "s= \"apple,banana,grapes\""
   ]
  },
  {
   "cell_type": "code",
   "execution_count": 10,
   "id": "6a7994fd-a673-41cd-834b-91f4d9f9dc45",
   "metadata": {},
   "outputs": [
    {
     "name": "stdout",
     "output_type": "stream",
     "text": [
      "['apple', 'banana', 'grapes']\n"
     ]
    }
   ],
   "source": [
    "print(s.split(\",\"))"
   ]
  },
  {
   "cell_type": "code",
   "execution_count": 11,
   "id": "3d40ba19-34ef-4014-9d05-c32da07cc734",
   "metadata": {},
   "outputs": [
    {
     "data": {
      "text/plain": [
       "'Chinm'"
      ]
     },
     "execution_count": 11,
     "metadata": {},
     "output_type": "execute_result"
    }
   ],
   "source": [
    "name[0:5]"
   ]
  },
  {
   "cell_type": "code",
   "execution_count": null,
   "id": "546d2053-944a-47a9-85a3-c434c4899089",
   "metadata": {},
   "outputs": [],
   "source": []
  }
 ],
 "metadata": {
  "kernelspec": {
   "display_name": "Python [conda env:base] *",
   "language": "python",
   "name": "conda-base-py"
  },
  "language_info": {
   "codemirror_mode": {
    "name": "ipython",
    "version": 3
   },
   "file_extension": ".py",
   "mimetype": "text/x-python",
   "name": "python",
   "nbconvert_exporter": "python",
   "pygments_lexer": "ipython3",
   "version": "3.13.5"
  }
 },
 "nbformat": 4,
 "nbformat_minor": 5
}
