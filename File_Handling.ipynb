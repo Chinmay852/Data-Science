{
 "cells": [
  {
   "cell_type": "code",
   "execution_count": 8,
   "id": "7ae90e43-b605-4c28-84dd-f0ea82356877",
   "metadata": {},
   "outputs": [],
   "source": [
    "f = open(\"text.txt\", \"r\")"
   ]
  },
  {
   "cell_type": "code",
   "execution_count": 9,
   "id": "bb7c5613-dfec-430a-b058-ae7f4a9077cb",
   "metadata": {},
   "outputs": [
    {
     "data": {
      "text/plain": [
       "'Chinmay\\nis\\na\\ngood\\nboy'"
      ]
     },
     "execution_count": 9,
     "metadata": {},
     "output_type": "execute_result"
    }
   ],
   "source": [
    "f.read()"
   ]
  },
  {
   "cell_type": "code",
   "execution_count": 10,
   "id": "f3dc17b8-d765-4a7b-92d6-3d3ad5bd14f3",
   "metadata": {},
   "outputs": [],
   "source": [
    "s = \"This is a nice way to learn data science\""
   ]
  },
  {
   "cell_type": "code",
   "execution_count": 11,
   "id": "dc736adc-a203-4c9e-b217-90804029f86d",
   "metadata": {},
   "outputs": [],
   "source": [
    "f.close()"
   ]
  },
  {
   "cell_type": "code",
   "execution_count": 12,
   "id": "ec593e42-1e9d-42c1-8ef3-8b2b060aa07b",
   "metadata": {},
   "outputs": [],
   "source": [
    "f = open(\"harry.txt\", \"w\")"
   ]
  },
  {
   "cell_type": "code",
   "execution_count": 13,
   "id": "dc0c9b3b-cddd-47db-ae5c-562a17472d45",
   "metadata": {},
   "outputs": [
    {
     "data": {
      "text/plain": [
       "40"
      ]
     },
     "execution_count": 13,
     "metadata": {},
     "output_type": "execute_result"
    }
   ],
   "source": [
    "f.write(s)"
   ]
  },
  {
   "cell_type": "code",
   "execution_count": 14,
   "id": "a9e6652b-9fea-483b-9823-71cb45d1d924",
   "metadata": {},
   "outputs": [],
   "source": [
    "f.close()"
   ]
  },
  {
   "cell_type": "code",
   "execution_count": 27,
   "id": "a744274a-6c5b-4904-a646-93a3abd5df55",
   "metadata": {},
   "outputs": [],
   "source": [
    "f = open(\"harry.txt\", \"a\")"
   ]
  },
  {
   "cell_type": "code",
   "execution_count": 28,
   "id": "ed00b776-d1a3-44d7-a988-6e6b6042a134",
   "metadata": {},
   "outputs": [
    {
     "data": {
      "text/plain": [
       "25"
      ]
     },
     "execution_count": 28,
     "metadata": {},
     "output_type": "execute_result"
    }
   ],
   "source": [
    "f.write(\"\\n This is some extra line\")"
   ]
  },
  {
   "cell_type": "code",
   "execution_count": 29,
   "id": "86c09ba4-a9c0-44db-a41e-9979bd7948de",
   "metadata": {},
   "outputs": [],
   "source": [
    "f.close()"
   ]
  },
  {
   "cell_type": "code",
   "execution_count": null,
   "id": "49b24fa6-5524-4d8a-83a9-acddb0bb822c",
   "metadata": {},
   "outputs": [],
   "source": []
  },
  {
   "cell_type": "code",
   "execution_count": null,
   "id": "c8fe93fa-7b8b-4408-a55c-910445a73c1c",
   "metadata": {},
   "outputs": [],
   "source": []
  }
 ],
 "metadata": {
  "kernelspec": {
   "display_name": "Python [conda env:base] *",
   "language": "python",
   "name": "conda-base-py"
  },
  "language_info": {
   "codemirror_mode": {
    "name": "ipython",
    "version": 3
   },
   "file_extension": ".py",
   "mimetype": "text/x-python",
   "name": "python",
   "nbconvert_exporter": "python",
   "pygments_lexer": "ipython3",
   "version": "3.13.5"
  }
 },
 "nbformat": 4,
 "nbformat_minor": 5
}
