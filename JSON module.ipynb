{
 "cells": [
  {
   "cell_type": "code",
   "execution_count": 1,
   "id": "f3d8518c-b42a-4a38-8e6e-d95d5b8b390c",
   "metadata": {},
   "outputs": [],
   "source": [
    "import json"
   ]
  },
  {
   "cell_type": "code",
   "execution_count": 2,
   "id": "e42ae256-09b6-4853-9358-14e39381444b",
   "metadata": {},
   "outputs": [],
   "source": [
    "obj = {\"name\" : \"Alice\", \"company\" : \"IBM\", \"salary\": 45000}"
   ]
  },
  {
   "cell_type": "code",
   "execution_count": 3,
   "id": "9163029e-ddd4-4d0d-9bea-8a7ed2dacef1",
   "metadata": {},
   "outputs": [],
   "source": [
    "s= json.dumps(obj)"
   ]
  },
  {
   "cell_type": "code",
   "execution_count": 4,
   "id": "f24470c2-1a60-4789-8d83-2194657120b5",
   "metadata": {},
   "outputs": [
    {
     "name": "stdout",
     "output_type": "stream",
     "text": [
      "{\"name\": \"Alice\", \"company\": \"IBM\", \"salary\": 45000}\n"
     ]
    }
   ],
   "source": [
    "print(s)"
   ]
  },
  {
   "cell_type": "code",
   "execution_count": 7,
   "id": "20adca36-f1b8-46c8-94bc-9e429710fefa",
   "metadata": {},
   "outputs": [],
   "source": [
    "d = json.loads('{\"name\": \"Alice\", \"company\": \"IBM\", \"salary\": 45000}')"
   ]
  },
  {
   "cell_type": "raw",
   "id": "e31d763e-5ee7-4ae3-b134-496c40899c47",
   "metadata": {},
   "source": [
    "b"
   ]
  },
  {
   "cell_type": "code",
   "execution_count": 8,
   "id": "c5ec4911-ed77-43ef-a8ea-63313bdacc79",
   "metadata": {},
   "outputs": [
    {
     "name": "stdout",
     "output_type": "stream",
     "text": [
      "{'name': 'Alice', 'company': 'IBM', 'salary': 45000}\n"
     ]
    }
   ],
   "source": [
    "print(d)"
   ]
  },
  {
   "cell_type": "code",
   "execution_count": 9,
   "id": "aa018856-6ac4-4068-ac0c-c218e336e8f6",
   "metadata": {},
   "outputs": [],
   "source": [
    "file = open(\"data.json\", \"w\")"
   ]
  },
  {
   "cell_type": "code",
   "execution_count": 10,
   "id": "ae67107b-2098-4656-a5d6-082110f348a7",
   "metadata": {},
   "outputs": [],
   "source": [
    "json.dump(obj, file)"
   ]
  },
  {
   "cell_type": "code",
   "execution_count": 11,
   "id": "37baca95-dfca-4c57-8ed5-e11cc2dd60b2",
   "metadata": {},
   "outputs": [],
   "source": [
    "file.close()"
   ]
  },
  {
   "cell_type": "code",
   "execution_count": null,
   "id": "1ad64544-c397-4aa9-824e-1d4348eaee52",
   "metadata": {},
   "outputs": [],
   "source": []
  }
 ],
 "metadata": {
  "kernelspec": {
   "display_name": "Python [conda env:base] *",
   "language": "python",
   "name": "conda-base-py"
  },
  "language_info": {
   "codemirror_mode": {
    "name": "ipython",
    "version": 3
   },
   "file_extension": ".py",
   "mimetype": "text/x-python",
   "name": "python",
   "nbconvert_exporter": "python",
   "pygments_lexer": "ipython3",
   "version": "3.13.5"
  }
 },
 "nbformat": 4,
 "nbformat_minor": 5
}
