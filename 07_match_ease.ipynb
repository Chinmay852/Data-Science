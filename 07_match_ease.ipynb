{
 "cells": [
  {
   "cell_type": "code",
   "execution_count": 5,
   "id": "fcceff5f-0a93-40ac-9506-4d1388ce217b",
   "metadata": {},
   "outputs": [],
   "source": [
    "code = 400"
   ]
  },
  {
   "cell_type": "code",
   "execution_count": 6,
   "id": "b2967a4a-aebc-45b2-9c11-0e546a7acbb9",
   "metadata": {},
   "outputs": [
    {
     "name": "stdout",
     "output_type": "stream",
     "text": [
      "Bad Response\n",
      "End of Program\n"
     ]
    }
   ],
   "source": [
    "match code:\n",
    "    case 200:\n",
    "        print(\"Response OK\")\n",
    "    case 400:\n",
    "        print(\"Bad Response\")\n",
    "    case 404:\n",
    "        print(\"Error Not Found\")\n",
    "print(\"End of Program\")"
   ]
  },
  {
   "cell_type": "code",
   "execution_count": null,
   "id": "99ab91a1-4683-4e57-8b1a-fc2b74b206f0",
   "metadata": {},
   "outputs": [],
   "source": []
  },
  {
   "cell_type": "code",
   "execution_count": null,
   "id": "5b9ce906-5f84-45d5-8bc9-0e6f84f10c24",
   "metadata": {},
   "outputs": [],
   "source": []
  }
 ],
 "metadata": {
  "kernelspec": {
   "display_name": "Python [conda env:base] *",
   "language": "python",
   "name": "conda-base-py"
  },
  "language_info": {
   "codemirror_mode": {
    "name": "ipython",
    "version": 3
   },
   "file_extension": ".py",
   "mimetype": "text/x-python",
   "name": "python",
   "nbconvert_exporter": "python",
   "pygments_lexer": "ipython3",
   "version": "3.13.5"
  }
 },
 "nbformat": 4,
 "nbformat_minor": 5
}
